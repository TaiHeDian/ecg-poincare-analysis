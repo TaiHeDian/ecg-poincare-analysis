{
 "cells": [
  {
   "cell_type": "code",
   "metadata": {
    "ExecuteTime": {
     "end_time": "2024-07-13T22:59:33.675272Z",
     "start_time": "2024-07-13T22:59:32.854918Z"
    }
   },
   "source": [
    "import numpy as np\n",
    "import matplotlib.pyplot as plt\n",
    "\n",
    "from jvp.load import read_data\n",
    "from jvp.peaks import find_peaks\n",
    "from jvp.process import filter_dict_data\n",
    "from jvp.poincare import poincare_plot\n",
    "from jvp.plot import generate_filename"
   ],
   "outputs": [],
   "execution_count": 1
  },
  {
   "cell_type": "code",
   "metadata": {
    "ExecuteTime": {
     "end_time": "2024-07-13T22:59:37.478611Z",
     "start_time": "2024-07-13T22:59:37.448614Z"
    }
   },
   "source": [
    "commercial_data = read_data('../data/jvp/commercial/')\n",
    "commercial_data_filtered = filter_dict_data(commercial_data)"
   ],
   "outputs": [],
   "execution_count": 2
  },
  {
   "metadata": {
    "ExecuteTime": {
     "end_time": "2024-07-13T23:03:13.565980Z",
     "start_time": "2024-07-13T23:03:13.260004Z"
    }
   },
   "cell_type": "code",
   "source": [
    "data = commercial_data_filtered['2.txt']\n",
    "peaks = find_peaks(data[:, 1])\n",
    "intervals = np.column_stack((np.diff(peaks[:-1]), np.diff(peaks[1:])))\n",
    "plt.figure(figsize=(16, 16))\n",
    "ax = plt.subplot()\n",
    "ax.scatter(intervals[:, 0], intervals[:, 1], edgecolors='red', c='blue')\n",
    "poincare_plot(ax, intervals, conf_level=0.9, edge_color='red')\n",
    "ax.set_xlabel('RRi')\n",
    "ax.set_ylabel('RRi+1')\n",
    "std_ratio = np.std(np.diff(intervals)) / np.sqrt(2)\n",
    "plt.figtext(0.5, 0.1, f\"STD = {std_ratio:.2f}\", fontsize=12, color='blue')\n",
    "plt.tight_layout()\n",
    "plt.savefig(generate_filename())\n",
    "plt.close()"
   ],
   "outputs": [],
   "execution_count": 12
  },
  {
   "metadata": {
    "ExecuteTime": {
     "end_time": "2024-07-13T23:03:15.521460Z",
     "start_time": "2024-07-13T23:03:15.274962Z"
    }
   },
   "cell_type": "code",
   "source": [
    "data = commercial_data_filtered['3.txt']\n",
    "peaks = find_peaks(data[:, 1])\n",
    "intervals = np.column_stack((np.diff(peaks[:-1]), np.diff(peaks[1:])))\n",
    "plt.figure(figsize=(16, 16))\n",
    "ax = plt.subplot()\n",
    "ax.scatter(intervals[:, 0], intervals[:, 1], edgecolors='red', c='blue')\n",
    "poincare_plot(ax, intervals, conf_level=0.9, edge_color='red')\n",
    "ax.set_xlabel('RRi')\n",
    "ax.set_ylabel('RRi+1')\n",
    "std_ratio = np.std(np.diff(intervals)) / np.sqrt(2)\n",
    "plt.figtext(0.5, 0.1, f\"STD = {std_ratio:.2f}\", fontsize=12, color='blue')\n",
    "plt.tight_layout()\n",
    "plt.savefig(generate_filename())\n",
    "plt.close()"
   ],
   "outputs": [],
   "execution_count": 13
  },
  {
   "metadata": {
    "ExecuteTime": {
     "end_time": "2024-07-13T23:03:16.456792Z",
     "start_time": "2024-07-13T23:03:16.227684Z"
    }
   },
   "cell_type": "code",
   "source": [
    "data = commercial_data_filtered['4.txt']\n",
    "peaks = find_peaks(data[:, 1])\n",
    "intervals = np.column_stack((np.diff(peaks[:-1]), np.diff(peaks[1:])))\n",
    "plt.figure(figsize=(16, 16))\n",
    "ax = plt.subplot()\n",
    "ax.scatter(intervals[:, 0], intervals[:, 1], edgecolors='red', c='blue')\n",
    "poincare_plot(ax, intervals, conf_level=0.9, edge_color='red')\n",
    "ax.set_xlabel('RRi')\n",
    "ax.set_ylabel('RRi+1')\n",
    "std_ratio = np.std(np.diff(intervals)) / np.sqrt(2)\n",
    "plt.figtext(0.5, 0.1, f\"STD = {std_ratio:.2f}\", fontsize=12, color='blue')\n",
    "plt.tight_layout()\n",
    "plt.savefig(generate_filename())\n",
    "plt.close()"
   ],
   "outputs": [],
   "execution_count": 14
  },
  {
   "metadata": {
    "ExecuteTime": {
     "end_time": "2024-07-13T23:03:17.783597Z",
     "start_time": "2024-07-13T23:03:17.551222Z"
    }
   },
   "cell_type": "code",
   "source": [
    "data = commercial_data_filtered['5.txt']\n",
    "peaks = find_peaks(data[:, 1])\n",
    "intervals = np.column_stack((np.diff(peaks[:-1]), np.diff(peaks[1:])))\n",
    "plt.figure(figsize=(16, 16))\n",
    "ax = plt.subplot()\n",
    "ax.scatter(intervals[:, 0], intervals[:, 1], edgecolors='red', c='blue')\n",
    "poincare_plot(ax, intervals, conf_level=0.9, edge_color='red')\n",
    "ax.set_xlabel('RRi')\n",
    "ax.set_ylabel('RRi+1')\n",
    "std_ratio = np.std(np.diff(intervals)) / np.sqrt(2)\n",
    "plt.figtext(0.5, 0.1, f\"STD = {std_ratio:.2f}\", fontsize=12, color='blue')\n",
    "plt.tight_layout()\n",
    "plt.savefig(generate_filename())\n",
    "plt.close()"
   ],
   "outputs": [],
   "execution_count": 15
  },
  {
   "metadata": {
    "ExecuteTime": {
     "end_time": "2024-07-13T23:03:19.335557Z",
     "start_time": "2024-07-13T23:03:19.104191Z"
    }
   },
   "cell_type": "code",
   "source": [
    "data = commercial_data_filtered['6.txt']\n",
    "peaks = find_peaks(data[:, 1])\n",
    "intervals = np.column_stack((np.diff(peaks[:-1]), np.diff(peaks[1:])))\n",
    "plt.figure(figsize=(16, 16))\n",
    "ax = plt.subplot()\n",
    "ax.scatter(intervals[:, 0], intervals[:, 1], edgecolors='red', c='blue')\n",
    "poincare_plot(ax, intervals, conf_level=0.9, edge_color='red')\n",
    "ax.set_xlabel('RRi')\n",
    "ax.set_ylabel('RRi+1')\n",
    "std_ratio = np.std(np.diff(intervals)) / np.sqrt(2)\n",
    "plt.figtext(0.5, 0.1, f\"STD = {std_ratio:.2f}\", fontsize=12, color='blue')\n",
    "plt.tight_layout()\n",
    "plt.savefig(generate_filename())\n",
    "plt.close()"
   ],
   "outputs": [],
   "execution_count": 16
  },
  {
   "metadata": {
    "ExecuteTime": {
     "end_time": "2024-07-13T23:03:21.128019Z",
     "start_time": "2024-07-13T23:03:20.879479Z"
    }
   },
   "cell_type": "code",
   "source": [
    "data = commercial_data_filtered['7.txt']\n",
    "peaks = find_peaks(data[:, 1])\n",
    "intervals = np.column_stack((np.diff(peaks[:-1]), np.diff(peaks[1:])))\n",
    "plt.figure(figsize=(16, 16))\n",
    "ax = plt.subplot()\n",
    "ax.scatter(intervals[:, 0], intervals[:, 1], edgecolors='red', c='blue')\n",
    "poincare_plot(ax, intervals, conf_level=0.9, edge_color='red')\n",
    "ax.set_xlabel('RRi')\n",
    "ax.set_ylabel('RRi+1')\n",
    "std_ratio = np.std(np.diff(intervals)) / np.sqrt(2)\n",
    "plt.figtext(0.5, 0.1, f\"STD = {std_ratio:.2f}\", fontsize=12, color='blue')\n",
    "plt.tight_layout()\n",
    "plt.savefig(generate_filename())\n",
    "plt.close()"
   ],
   "outputs": [],
   "execution_count": 17
  },
  {
   "metadata": {
    "ExecuteTime": {
     "end_time": "2024-07-13T23:03:22.406498Z",
     "start_time": "2024-07-13T23:03:22.172721Z"
    }
   },
   "cell_type": "code",
   "source": [
    "data = commercial_data_filtered['8.txt']\n",
    "peaks = find_peaks(data[:, 1])\n",
    "intervals = np.column_stack((np.diff(peaks[:-1]), np.diff(peaks[1:])))\n",
    "plt.figure(figsize=(16, 16))\n",
    "ax = plt.subplot()\n",
    "ax.scatter(intervals[:, 0], intervals[:, 1], edgecolors='red', c='blue')\n",
    "poincare_plot(ax, intervals, conf_level=0.9, edge_color='red')\n",
    "ax.set_xlabel('RRi')\n",
    "ax.set_ylabel('RRi+1')\n",
    "std_ratio = np.std(np.diff(intervals)) / np.sqrt(2)\n",
    "plt.figtext(0.5, 0.1, f\"STD = {std_ratio:.2f}\", fontsize=12, color='blue')\n",
    "plt.tight_layout()\n",
    "plt.savefig(generate_filename())\n",
    "plt.close()"
   ],
   "outputs": [],
   "execution_count": 18
  },
  {
   "metadata": {
    "ExecuteTime": {
     "end_time": "2024-07-13T23:03:25.759273Z",
     "start_time": "2024-07-13T23:03:25.510167Z"
    }
   },
   "cell_type": "code",
   "source": [
    "data = commercial_data_filtered['13.txt']\n",
    "peaks = find_peaks(data[:, 1])\n",
    "intervals = np.column_stack((np.diff(peaks[:-1]), np.diff(peaks[1:])))\n",
    "plt.figure(figsize=(16, 16))\n",
    "ax = plt.subplot()\n",
    "ax.scatter(intervals[:, 0], intervals[:, 1], edgecolors='red', c='blue')\n",
    "poincare_plot(ax, intervals, conf_level=0.9, edge_color='red')\n",
    "ax.set_xlabel('RRi')\n",
    "ax.set_ylabel('RRi+1')\n",
    "std_ratio = np.std(np.diff(intervals)) / np.sqrt(2)\n",
    "plt.figtext(0.5, 0.1, f\"STD = {std_ratio:.2f}\", fontsize=12, color='blue')\n",
    "plt.tight_layout()\n",
    "plt.savefig(generate_filename())\n",
    "plt.close()"
   ],
   "outputs": [],
   "execution_count": 19
  },
  {
   "metadata": {
    "ExecuteTime": {
     "end_time": "2024-07-13T23:03:28.621265Z",
     "start_time": "2024-07-13T23:03:28.374912Z"
    }
   },
   "cell_type": "code",
   "source": [
    "data = commercial_data_filtered['14.txt']\n",
    "peaks = find_peaks(data[:, 1])\n",
    "intervals = np.column_stack((np.diff(peaks[:-1]), np.diff(peaks[1:])))\n",
    "plt.figure(figsize=(16, 16))\n",
    "ax = plt.subplot()\n",
    "ax.scatter(intervals[:, 0], intervals[:, 1], edgecolors='red', c='blue')\n",
    "poincare_plot(ax, intervals, conf_level=0.9, edge_color='red')\n",
    "ax.set_xlabel('RRi')\n",
    "ax.set_ylabel('RRi+1')\n",
    "std_ratio = np.std(np.diff(intervals)) / np.sqrt(2)\n",
    "plt.figtext(0.5, 0.1, f\"STD = {std_ratio:.2f}\", fontsize=12, color='blue')\n",
    "plt.tight_layout()\n",
    "plt.savefig(generate_filename())\n",
    "plt.close()"
   ],
   "outputs": [],
   "execution_count": 20
  }
 ],
 "metadata": {
  "kernelspec": {
   "display_name": "Python 3 (ipykernel)",
   "language": "python",
   "name": "python3"
  },
  "language_info": {
   "codemirror_mode": {
    "name": "ipython",
    "version": 3
   },
   "file_extension": ".py",
   "mimetype": "text/x-python",
   "name": "python",
   "nbconvert_exporter": "python",
   "pygments_lexer": "ipython3",
   "version": "3.10.14"
  }
 },
 "nbformat": 4,
 "nbformat_minor": 4
}
